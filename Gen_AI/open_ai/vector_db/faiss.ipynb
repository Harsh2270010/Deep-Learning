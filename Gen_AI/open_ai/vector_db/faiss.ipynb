{
 "cells": [
  {
   "cell_type": "code",
   "execution_count": 18,
   "id": "d75766ac",
   "metadata": {},
   "outputs": [],
   "source": [
    "##faiss - facebook ai similarity search library \n",
    "# for efficient similarity search and clustering \n",
    "# of dense vectors of any dimensionality "
   ]
  },
  {
   "cell_type": "code",
   "execution_count": 19,
   "id": "9fd5675a",
   "metadata": {},
   "outputs": [],
   "source": [
    "from langchain_community.document_loaders import TextLoader\n",
    "from langchain_community.vectorstores import FAISS\n",
    "from langchain_community.embeddings import OllamaEmbeddings\n",
    "from langchain.text_splitter import CharacterTextSplitter\n"
   ]
  },
  {
   "cell_type": "code",
   "execution_count": 20,
   "id": "c8fadd6b",
   "metadata": {},
   "outputs": [
    {
     "name": "stderr",
     "output_type": "stream",
     "text": [
      "Created a chunk of size 470, which is longer than the specified 100\n",
      "Created a chunk of size 347, which is longer than the specified 100\n",
      "Created a chunk of size 670, which is longer than the specified 100\n",
      "Created a chunk of size 984, which is longer than the specified 100\n",
      "Created a chunk of size 791, which is longer than the specified 100\n"
     ]
    }
   ],
   "source": [
    "loader = TextLoader(\"speech.txt\")\n",
    "docs = loader.load()\n",
    "text_splitter = CharacterTextSplitter(chunk_size = 100 ,chunk_overlap = 30)\n",
    "docs = text_splitter.split_documents(docs)"
   ]
  },
  {
   "cell_type": "code",
   "execution_count": 21,
   "id": "96df0755",
   "metadata": {},
   "outputs": [
    {
     "data": {
      "text/plain": [
       "<langchain_text_splitters.character.CharacterTextSplitter at 0x13d558a7590>"
      ]
     },
     "execution_count": 21,
     "metadata": {},
     "output_type": "execute_result"
    }
   ],
   "source": [
    "text_splitter"
   ]
  },
  {
   "cell_type": "code",
   "execution_count": 22,
   "id": "06c2fb6d",
   "metadata": {},
   "outputs": [
    {
     "data": {
      "text/plain": [
       "<langchain_community.vectorstores.faiss.FAISS at 0x13d53b01650>"
      ]
     },
     "execution_count": 22,
     "metadata": {},
     "output_type": "execute_result"
    }
   ],
   "source": [
    "embeddings = OllamaEmbeddings()\n",
    "vectorstore = FAISS.from_documents(docs, embeddings)\n",
    "vectorstore"
   ]
  },
  {
   "cell_type": "code",
   "execution_count": 23,
   "id": "f539573e",
   "metadata": {},
   "outputs": [],
   "source": [
    "### query \n",
    "query  =\"The world must be made safe for democracy\"\n",
    "\n",
    "returns = vectorstore.similarity_search(query)"
   ]
  },
  {
   "cell_type": "markdown",
   "id": "116692c8",
   "metadata": {},
   "source": [
    "## as a retriever \n",
    "\n",
    "we can also convert the vectorstore into a retriever class . this allow us to easily use it other langchain methods,which largely work with retrivers"
   ]
  },
  {
   "cell_type": "code",
   "execution_count": 24,
   "id": "f5e88312",
   "metadata": {},
   "outputs": [
    {
     "data": {
      "text/plain": [
       "[Document(id='6a3c0705-c49e-4fba-8ac5-433b6bce7a5c', metadata={'source': 'speech.txt'}, page_content='It is a distressing and oppressive duty, gentlemen of the Congress, which I have performed in thus addressing you. There are, it may be, many months of fiery trial and sacrifice ahead of us. It is a fearful thing to lead this great peaceful people into war, into the most terrible and disastrous of all wars, civilization itself seeming to be in the balance. But the right is more precious than peace, and we shall fight for the things which we have always carried nearest our heartsâ€”for democracy, for the right of those who submit to authority to have a voice in their own governments, for the rights and liberties of small nations, for a universal dominion of right by such a concert of free peoples as shall bring peace and safety to all nations and make the world itself at last free.'),\n",
       " Document(id='f23201bf-ed7e-43e6-946d-4ad44ea6916b', metadata={'source': 'speech.txt'}, page_content='To such a task we can dedicate our lives and our fortunes, everything that we are and everything that we have, with the pride of those who know that the day has come when America is privileged to spend her blood and her might for the principles that gave her birth and happiness and the peace which she has treasured. God helping her, she can do no other.'),\n",
       " Document(id='0b17850a-5cb8-4a87-80cd-06a8d386a707', metadata={'source': 'speech.txt'}, page_content='It will be all the easier for us to conduct ourselves as belligerents in a high spirit of right and fairness because we act without animus, not in enmity toward a people or with the desire to bring any injury or disadvantage upon them, but only in armed opposition to an irresponsible government which has thrown aside all considerations of humanity and of right and is running amuck. We are, let me say again, the sincere friends of the German people, and shall desire nothing so much as the early reestablishment of intimate relations of mutual advantage between usâ€”however hard it may be for them, for the time being, to believe that this is spoken from our hearts.'),\n",
       " Document(id='b45e6e3e-1a99-4f14-93c7-c7257a3b1eff', metadata={'source': 'speech.txt'}, page_content='The world must be made safe for democracy. Its peace must be planted upon the tested foundations of political liberty. We have no selfish ends to serve. We desire no conquest, no dominion. We seek no indemnities for ourselves, no material compensation for the sacrifices we shall freely make. We are but one of the champions of the rights of mankind. We shall be satisfied when those rights have been made as secure as the faith and the freedom of nations can make them.')]"
      ]
     },
     "execution_count": 24,
     "metadata": {},
     "output_type": "execute_result"
    }
   ],
   "source": [
    "retriever = vectorstore.as_retriever()\n",
    "retriever.invoke(query)"
   ]
  },
  {
   "cell_type": "markdown",
   "id": "4d2f872f",
   "metadata": {},
   "source": [
    "## similarity search with score \n",
    "this allow you to return not only the documents but also the distance score of the query to them. The returned score is L2 score and a lower score is a better score "
   ]
  },
  {
   "cell_type": "code",
   "execution_count": 25,
   "id": "b31a2e00",
   "metadata": {},
   "outputs": [],
   "source": [
    "docs_and_scores = vectorstore.similarity_search_with_score(query)"
   ]
  },
  {
   "cell_type": "code",
   "execution_count": 26,
   "id": "7e5f2527",
   "metadata": {},
   "outputs": [],
   "source": [
    "## saving embeddings\n",
    "vectorstore.save_local(\"faiss_index\")"
   ]
  },
  {
   "cell_type": "code",
   "execution_count": 27,
   "id": "1b2d7829",
   "metadata": {},
   "outputs": [],
   "source": [
    "## loading file\n",
    "\n",
    "vectorstore = FAISS.load_local(\"faiss_index\",embeddings,allow_dangerous_deserialization=True)"
   ]
  },
  {
   "cell_type": "code",
   "execution_count": null,
   "id": "1b988c89",
   "metadata": {},
   "outputs": [],
   "source": []
  }
 ],
 "metadata": {
  "kernelspec": {
   "display_name": "Python 3",
   "language": "python",
   "name": "python3"
  },
  "language_info": {
   "codemirror_mode": {
    "name": "ipython",
    "version": 3
   },
   "file_extension": ".py",
   "mimetype": "text/x-python",
   "name": "python",
   "nbconvert_exporter": "python",
   "pygments_lexer": "ipython3",
   "version": "3.11.9"
  }
 },
 "nbformat": 4,
 "nbformat_minor": 5
}
