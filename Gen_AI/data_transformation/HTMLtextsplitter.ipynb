{
 "cells": [
  {
   "cell_type": "code",
   "execution_count": 1,
   "id": "6131f990",
   "metadata": {},
   "outputs": [],
   "source": [
    "from langchain_text_splitters import HTMLHeaderTextSplitter"
   ]
  },
  {
   "cell_type": "code",
   "execution_count": 2,
   "id": "9813d77a",
   "metadata": {},
   "outputs": [],
   "source": [
    "html_string  = \"\"\"\n",
    "html_content = \n",
    "<html>\n",
    "  <body>\n",
    "    <h1>Welcome</h1>\n",
    "    <p>This is a test paragraph for LangChain HTMLTextSplitter.</p>\n",
    "  </body>\n",
    "</html>\n",
    "\"\"\""
   ]
  },
  {
   "cell_type": "code",
   "execution_count": 3,
   "id": "027cf22e",
   "metadata": {},
   "outputs": [
    {
     "name": "stdout",
     "output_type": "stream",
     "text": [
      "[Document(metadata={'Header 1': 'Welcome'}, page_content='Welcome'), Document(metadata={'Header 1': 'Welcome'}, page_content='This is a test paragraph for LangChain HTMLTextSplitter.')]\n"
     ]
    }
   ],
   "source": [
    "header_to_split = [\n",
    "    (\"h1\", \"Header 1\"),\n",
    "    (\"h2\", \"Header 2\"),\n",
    "    (\"h3\",\"Header 3\")\n",
    "]\n",
    "html_splitter = HTMLHeaderTextSplitter(headers_to_split_on=header_to_split)\n",
    "html_header_splits = html_splitter.split_text(html_string)\n",
    "print(html_header_splits)"
   ]
  },
  {
   "cell_type": "code",
   "execution_count": null,
   "id": "f4924ee7",
   "metadata": {},
   "outputs": [],
   "source": [
    "https"
   ]
  },
  {
   "cell_type": "code",
   "execution_count": null,
   "id": "20611f6d",
   "metadata": {},
   "outputs": [],
   "source": []
  }
 ],
 "metadata": {
  "kernelspec": {
   "display_name": "Python 3",
   "language": "python",
   "name": "python3"
  },
  "language_info": {
   "codemirror_mode": {
    "name": "ipython",
    "version": 3
   },
   "file_extension": ".py",
   "mimetype": "text/x-python",
   "name": "python",
   "nbconvert_exporter": "python",
   "pygments_lexer": "ipython3",
   "version": "3.11.9"
  }
 },
 "nbformat": 4,
 "nbformat_minor": 5
}
