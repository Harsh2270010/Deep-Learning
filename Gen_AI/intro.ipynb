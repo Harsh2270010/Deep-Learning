{
 "cells": [
  {
   "cell_type": "code",
   "execution_count": null,
   "id": "151fba57",
   "metadata": {},
   "outputs": [],
   "source": []
  },
  {
   "cell_type": "code",
   "execution_count": null,
   "id": "bf108541",
   "metadata": {},
   "outputs": [],
   "source": [
    "## RAG technique \n",
    "## 1 -- Data load(pdf,excel,csv,word,txt)\n",
    "## 2 -- Data -- split into smaller parts(chunks)\n",
    "## 3 -- embeddings -- vectors\n",
    "## 4 -- vector store  -- vector database\n",
    "## 5 -- query -- search"
   ]
  },
  {
   "cell_type": "code",
   "execution_count": null,
   "id": "fa1c17c3",
   "metadata": {},
   "outputs": [],
   "source": []
  },
  {
   "cell_type": "code",
   "execution_count": null,
   "id": "cb49a4bb",
   "metadata": {},
   "outputs": [],
   "source": []
  }
 ],
 "metadata": {
  "language_info": {
   "name": "python"
  }
 },
 "nbformat": 4,
 "nbformat_minor": 5
}
