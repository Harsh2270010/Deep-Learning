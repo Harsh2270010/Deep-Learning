{
 "cells": [
  {
   "cell_type": "code",
   "execution_count": 14,
   "id": "7c0e661c",
   "metadata": {},
   "outputs": [],
   "source": [
    "\n",
    "words = [\"eating\", \"eats\", \"eaten\", \"writing\",\"writes\", \"programming\", \"programs\", \"history\",\"finally\",\"finalized\"]"
   ]
  },
  {
   "cell_type": "code",
   "execution_count": 15,
   "id": "f7cbf0c1",
   "metadata": {},
   "outputs": [],
   "source": [
    "## lemitization \n",
    "\n",
    "from nltk.stem import WordNetLemmatizer\n",
    "from nltk.corpus import wordnet\n",
    "\n",
    "lemmtizer = WordNetLemmatizer()\n",
    "\n",
    "def lemmatize_word(word):\n",
    "    return lemmtizer.lemmatize(word,pos=\"v\")"
   ]
  },
  {
   "cell_type": "code",
   "execution_count": 16,
   "id": "d37d6ce3",
   "metadata": {},
   "outputs": [],
   "source": [
    "lemmas = [lemmatize_word(word) for word in words]"
   ]
  },
  {
   "cell_type": "code",
   "execution_count": 17,
   "id": "eaf48ac3",
   "metadata": {},
   "outputs": [
    {
     "name": "stdout",
     "output_type": "stream",
     "text": [
      "['eat', 'eat', 'eat', 'write', 'write', 'program', 'program', 'history', 'finally', 'finalize']\n"
     ]
    }
   ],
   "source": [
    "print(lemmas)"
   ]
  },
  {
   "cell_type": "code",
   "execution_count": null,
   "id": "c8a6ee97",
   "metadata": {},
   "outputs": [],
   "source": []
  }
 ],
 "metadata": {
  "kernelspec": {
   "display_name": "Python 3",
   "language": "python",
   "name": "python3"
  },
  "language_info": {
   "codemirror_mode": {
    "name": "ipython",
    "version": 3
   },
   "file_extension": ".py",
   "mimetype": "text/x-python",
   "name": "python",
   "nbconvert_exporter": "python",
   "pygments_lexer": "ipython3",
   "version": "3.11.9"
  }
 },
 "nbformat": 4,
 "nbformat_minor": 5
}
