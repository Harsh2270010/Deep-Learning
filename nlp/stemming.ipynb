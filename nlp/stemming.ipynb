{
 "cells": [
  {
   "cell_type": "code",
   "execution_count": null,
   "id": "3d505239",
   "metadata": {},
   "outputs": [],
   "source": [
    "words = [\"eating\", \"eats\", \"eaten\", \"writing\",\"writes\", \"programming\", \"programs\", \"history\",\"finally\",\"finalized\"]"
   ]
  },
  {
   "cell_type": "code",
   "execution_count": 7,
   "id": "29b7a4c6",
   "metadata": {},
   "outputs": [],
   "source": [
    "### porter stemmer \n",
    "from nltk.stem import PorterStemmer\n",
    "\n",
    "stemming = PorterStemmer()\n"
   ]
  },
  {
   "cell_type": "code",
   "execution_count": 8,
   "id": "588b5476",
   "metadata": {},
   "outputs": [
    {
     "name": "stdout",
     "output_type": "stream",
     "text": [
      "eating ------> eat\n",
      "eats ------> eat\n",
      "eaten ------> eaten\n",
      "writing ------> write\n",
      "writes ------> write\n",
      "programming ------> program\n",
      "programs ------> program\n",
      "history ------> histori\n",
      "finally ------> final\n",
      "finalized ------> final\n"
     ]
    }
   ],
   "source": [
    "for word in words:\n",
    "    print(word,\"------>\",stemming.stem(word))"
   ]
  },
  {
   "cell_type": "code",
   "execution_count": 19,
   "id": "064e153c",
   "metadata": {},
   "outputs": [
    {
     "data": {
      "text/plain": [
       "'was'"
      ]
     },
     "execution_count": 19,
     "metadata": {},
     "output_type": "execute_result"
    }
   ],
   "source": [
    "from nltk.stem import RegexpStemmer\n",
    "reg_stemmer = RegexpStemmer('ing$|s$|e$|able$',min=4)\n",
    "reg_stemmer.stem(\"sitting\")\n",
    "reg_stemmer.stem(\"was\")"
   ]
  },
  {
   "cell_type": "code",
   "execution_count": 22,
   "id": "506e0e3a",
   "metadata": {},
   "outputs": [],
   "source": [
    "## snowball stemmer --- updated version porter stemmer // porter 2\n",
    "from nltk.stem import SnowballStemmer\n",
    "snow_stemmer = SnowballStemmer('english')\n"
   ]
  },
  {
   "cell_type": "code",
   "execution_count": 23,
   "id": "aeae3b71",
   "metadata": {},
   "outputs": [
    {
     "name": "stdout",
     "output_type": "stream",
     "text": [
      "eating -----> eat\n",
      "eats -----> eat\n",
      "eaten -----> eaten\n",
      "writing -----> write\n",
      "writes -----> write\n",
      "programming -----> program\n",
      "programs -----> program\n",
      "history -----> histori\n",
      "finally -----> final\n",
      "finalized -----> final\n"
     ]
    }
   ],
   "source": [
    "for word in words:\n",
    "    print(word,\"----->\",snow_stemmer.stem(word))"
   ]
  }
 ],
 "metadata": {
  "kernelspec": {
   "display_name": "Python 3",
   "language": "python",
   "name": "python3"
  },
  "language_info": {
   "codemirror_mode": {
    "name": "ipython",
    "version": 3
   },
   "file_extension": ".py",
   "mimetype": "text/x-python",
   "name": "python",
   "nbconvert_exporter": "python",
   "pygments_lexer": "ipython3",
   "version": "3.11.9"
  }
 },
 "nbformat": 4,
 "nbformat_minor": 5
}
