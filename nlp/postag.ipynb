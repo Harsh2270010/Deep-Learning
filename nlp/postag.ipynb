{
 "cells": [
  {
   "cell_type": "code",
   "execution_count": 27,
   "id": "d0e149a6",
   "metadata": {},
   "outputs": [],
   "source": [
    "from nltk.corpus import stopwords\n",
    "import nltk"
   ]
  },
  {
   "cell_type": "code",
   "execution_count": 28,
   "id": "76add7f3",
   "metadata": {},
   "outputs": [
    {
     "name": "stderr",
     "output_type": "stream",
     "text": [
      "[nltk_data] Downloading package averaged_perceptron_tagger_eng to\n",
      "[nltk_data]     C:\\Users\\verma\\AppData\\Roaming\\nltk_data...\n",
      "[nltk_data]   Package averaged_perceptron_tagger_eng is already up-to-\n",
      "[nltk_data]       date!\n"
     ]
    },
    {
     "data": {
      "text/plain": [
       "True"
      ]
     },
     "execution_count": 28,
     "metadata": {},
     "output_type": "execute_result"
    }
   ],
   "source": [
    "nltk.download(\"averaged_perceptron_tagger_eng\")"
   ]
  },
  {
   "cell_type": "code",
   "execution_count": 29,
   "id": "4dff3543",
   "metadata": {},
   "outputs": [],
   "source": [
    "paragraph = ('Artificial Intelligence (AI) is a powerful and evolving technology that enables machines to mimic human intelligence by learning, reasoning, and solving problems. It is widely used in various industries, from healthcare and finance to entertainment and transportation, enhancing efficiency and innovation. AI relies on vast amounts of data and sophisticated algorithms to automate tasks, make predictions, and improve decision-making. While AI brings numerous advantages, it also raises ethical concerns, such as job displacement, privacy issues, and bias in decision-making. As AI continues to advance, it has the potential to revolutionize industries, improve lives, and shape the future in unimaginable ways.')"
   ]
  },
  {
   "cell_type": "code",
   "execution_count": 30,
   "id": "b7d738af",
   "metadata": {},
   "outputs": [],
   "source": [
    "sentences = nltk.sent_tokenize(paragraph)"
   ]
  },
  {
   "cell_type": "code",
   "execution_count": 31,
   "id": "a720f4cd",
   "metadata": {},
   "outputs": [
    {
     "name": "stdout",
     "output_type": "stream",
     "text": [
      "[('Artificial', 'JJ'), ('Intelligence', 'NNP'), ('(', '('), ('AI', 'NNP'), (')', ')'), ('powerful', 'JJ'), ('evolving', 'VBG'), ('technology', 'NN'), ('enables', 'NNS'), ('machines', 'NNS'), ('mimic', 'JJ'), ('human', 'JJ'), ('intelligence', 'NN'), ('learning', 'NN'), (',', ','), ('reasoning', 'VBG'), (',', ','), ('solving', 'VBG'), ('problems', 'NNS'), ('.', '.')]\n",
      "[('It', 'PRP'), ('widely', 'RB'), ('used', 'VBD'), ('various', 'JJ'), ('industries', 'NNS'), (',', ','), ('healthcare', 'NN'), ('finance', 'NN'), ('entertainment', 'NN'), ('transportation', 'NN'), (',', ','), ('enhancing', 'VBG'), ('efficiency', 'NN'), ('innovation', 'NN'), ('.', '.')]\n",
      "[('AI', 'NNP'), ('relies', 'NNS'), ('vast', 'JJ'), ('amounts', 'NNS'), ('data', 'NNS'), ('sophisticated', 'VBD'), ('algorithms', 'JJ'), ('automate', 'NN'), ('tasks', 'NNS'), (',', ','), ('make', 'VBP'), ('predictions', 'NNS'), (',', ','), ('improve', 'VB'), ('decision-making', 'NN'), ('.', '.')]\n",
      "[('While', 'IN'), ('AI', 'NNP'), ('brings', 'VBZ'), ('numerous', 'JJ'), ('advantages', 'NNS'), (',', ','), ('also', 'RB'), ('raises', 'VBZ'), ('ethical', 'JJ'), ('concerns', 'NNS'), (',', ','), ('job', 'NN'), ('displacement', 'NN'), (',', ','), ('privacy', 'NN'), ('issues', 'NNS'), (',', ','), ('bias', 'JJ'), ('decision-making', 'NN'), ('.', '.')]\n",
      "[('As', 'IN'), ('AI', 'NNP'), ('continues', 'VBZ'), ('advance', 'NN'), (',', ','), ('potential', 'JJ'), ('revolutionize', 'NN'), ('industries', 'NNS'), (',', ','), ('improve', 'VB'), ('lives', 'NNS'), (',', ','), ('shape', 'NN'), ('future', 'NN'), ('unimaginable', 'JJ'), ('ways', 'NNS'), ('.', '.')]\n"
     ]
    }
   ],
   "source": [
    "for i in range(len(sentences)):\n",
    "    words = nltk.word_tokenize(sentences[i])\n",
    "    words = [word for word in words if word not in set(stopwords.words(\"english\"))]\n",
    "    pos_tag = nltk.pos_tag(words)\n",
    "    print(pos_tag)"
   ]
  },
  {
   "cell_type": "code",
   "execution_count": null,
   "id": "0fa82285",
   "metadata": {},
   "outputs": [],
   "source": []
  },
  {
   "cell_type": "code",
   "execution_count": null,
   "id": "ec7ccacd",
   "metadata": {},
   "outputs": [],
   "source": []
  },
  {
   "cell_type": "code",
   "execution_count": null,
   "id": "84c89e98",
   "metadata": {},
   "outputs": [],
   "source": []
  }
 ],
 "metadata": {
  "kernelspec": {
   "display_name": "Python 3",
   "language": "python",
   "name": "python3"
  },
  "language_info": {
   "codemirror_mode": {
    "name": "ipython",
    "version": 3
   },
   "file_extension": ".py",
   "mimetype": "text/x-python",
   "name": "python",
   "nbconvert_exporter": "python",
   "pygments_lexer": "ipython3",
   "version": "3.11.9"
  }
 },
 "nbformat": 4,
 "nbformat_minor": 5
}
