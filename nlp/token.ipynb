{
 "cells": [
  {
   "cell_type": "code",
   "execution_count": 33,
   "id": "1b2aec90",
   "metadata": {},
   "outputs": [],
   "source": [
    "import nltk"
   ]
  },
  {
   "cell_type": "code",
   "execution_count": 34,
   "id": "00433390",
   "metadata": {},
   "outputs": [],
   "source": [
    "corpus = \"India to tour Bangladesh in 2025 for 3 ODI's and T20Is. BCCI announces full schedule\""
   ]
  },
  {
   "cell_type": "code",
   "execution_count": 35,
   "id": "dcb51aa3",
   "metadata": {},
   "outputs": [],
   "source": [
    "from nltk.tokenize import sent_tokenize"
   ]
  },
  {
   "cell_type": "code",
   "execution_count": 36,
   "id": "0042943b",
   "metadata": {},
   "outputs": [
    {
     "name": "stderr",
     "output_type": "stream",
     "text": [
      "[nltk_data] Downloading package punkt_tab to\n",
      "[nltk_data]     C:\\Users\\verma\\AppData\\Roaming\\nltk_data...\n",
      "[nltk_data]   Package punkt_tab is already up-to-date!\n"
     ]
    },
    {
     "data": {
      "text/plain": [
       "True"
      ]
     },
     "execution_count": 36,
     "metadata": {},
     "output_type": "execute_result"
    }
   ],
   "source": [
    "nltk.download(\"punkt_tab\")"
   ]
  },
  {
   "cell_type": "code",
   "execution_count": 37,
   "id": "73011bec",
   "metadata": {},
   "outputs": [
    {
     "data": {
      "text/plain": [
       "[\"India to tour Bangladesh in 2025 for 3 ODI's and T20Is.\",\n",
       " 'BCCI announces full schedule']"
      ]
     },
     "execution_count": 37,
     "metadata": {},
     "output_type": "execute_result"
    }
   ],
   "source": [
    "document = sent_tokenize(corpus)\n",
    "document"
   ]
  },
  {
   "cell_type": "code",
   "execution_count": 38,
   "id": "f004ed5e",
   "metadata": {},
   "outputs": [
    {
     "data": {
      "text/plain": [
       "list"
      ]
     },
     "execution_count": 38,
     "metadata": {},
     "output_type": "execute_result"
    }
   ],
   "source": [
    "type (document)"
   ]
  },
  {
   "cell_type": "code",
   "execution_count": 39,
   "id": "2a3a7c8b",
   "metadata": {},
   "outputs": [
    {
     "name": "stdout",
     "output_type": "stream",
     "text": [
      "India to tour Bangladesh in 2025 for 3 ODI's and T20Is.\n",
      "BCCI announces full schedule\n"
     ]
    }
   ],
   "source": [
    "for sent in document:\n",
    "    print(sent)"
   ]
  },
  {
   "cell_type": "code",
   "execution_count": 40,
   "id": "b907f9c4",
   "metadata": {},
   "outputs": [],
   "source": [
    "## paragraphs ---> words \n",
    "## sent ---> words"
   ]
  },
  {
   "cell_type": "code",
   "execution_count": 41,
   "id": "4e52e850",
   "metadata": {},
   "outputs": [],
   "source": [
    "from nltk.tokenize import word_tokenize\n"
   ]
  },
  {
   "cell_type": "code",
   "execution_count": 42,
   "id": "d8addcf5",
   "metadata": {},
   "outputs": [
    {
     "data": {
      "text/plain": [
       "['India',\n",
       " 'to',\n",
       " 'tour',\n",
       " 'Bangladesh',\n",
       " 'in',\n",
       " '2025',\n",
       " 'for',\n",
       " '3',\n",
       " 'ODI',\n",
       " \"'s\",\n",
       " 'and',\n",
       " 'T20Is',\n",
       " '.',\n",
       " 'BCCI',\n",
       " 'announces',\n",
       " 'full',\n",
       " 'schedule']"
      ]
     },
     "execution_count": 42,
     "metadata": {},
     "output_type": "execute_result"
    }
   ],
   "source": [
    "word_tokenize(corpus)"
   ]
  },
  {
   "cell_type": "code",
   "execution_count": 43,
   "id": "07d4d897",
   "metadata": {},
   "outputs": [
    {
     "name": "stdout",
     "output_type": "stream",
     "text": [
      "['India', 'to', 'tour', 'Bangladesh', 'in', '2025', 'for', '3', 'ODI', \"'s\", 'and', 'T20Is', '.']\n",
      "['BCCI', 'announces', 'full', 'schedule']\n"
     ]
    }
   ],
   "source": [
    "for sent in document:\n",
    "    print (word_tokenize(sent))"
   ]
  },
  {
   "cell_type": "code",
   "execution_count": 44,
   "id": "ff54e482",
   "metadata": {},
   "outputs": [],
   "source": [
    "from nltk.tokenize import wordpunct_tokenize"
   ]
  },
  {
   "cell_type": "code",
   "execution_count": 45,
   "id": "1cdfd775",
   "metadata": {},
   "outputs": [
    {
     "data": {
      "text/plain": [
       "['India',\n",
       " 'to',\n",
       " 'tour',\n",
       " 'Bangladesh',\n",
       " 'in',\n",
       " '2025',\n",
       " 'for',\n",
       " '3',\n",
       " 'ODI',\n",
       " \"'\",\n",
       " 's',\n",
       " 'and',\n",
       " 'T20Is',\n",
       " '.',\n",
       " 'BCCI',\n",
       " 'announces',\n",
       " 'full',\n",
       " 'schedule']"
      ]
     },
     "execution_count": 45,
     "metadata": {},
     "output_type": "execute_result"
    }
   ],
   "source": [
    "wordpunct_tokenize(corpus)"
   ]
  },
  {
   "cell_type": "code",
   "execution_count": 46,
   "id": "ba4bbf93",
   "metadata": {},
   "outputs": [],
   "source": [
    "from nltk.tokenize import TreebankWordTokenizer"
   ]
  },
  {
   "cell_type": "code",
   "execution_count": 47,
   "id": "7487c810",
   "metadata": {},
   "outputs": [
    {
     "data": {
      "text/plain": [
       "['India',\n",
       " 'to',\n",
       " 'tour',\n",
       " 'Bangladesh',\n",
       " 'in',\n",
       " '2025',\n",
       " 'for',\n",
       " '3',\n",
       " 'ODI',\n",
       " \"'s\",\n",
       " 'and',\n",
       " 'T20Is.',\n",
       " 'BCCI',\n",
       " 'announces',\n",
       " 'full',\n",
       " 'schedule']"
      ]
     },
     "execution_count": 47,
     "metadata": {},
     "output_type": "execute_result"
    }
   ],
   "source": [
    "TreebankWordTokenizer().tokenize(corpus)"
   ]
  },
  {
   "cell_type": "code",
   "execution_count": 50,
   "id": "cd3099fa",
   "metadata": {},
   "outputs": [
    {
     "data": {
      "text/plain": [
       "\"india to tour bangladesh in 2025 for 3 odi's and t20is. bcci announces full schedule\""
      ]
     },
     "execution_count": 50,
     "metadata": {},
     "output_type": "execute_result"
    }
   ],
   "source": [
    "corpus.lower()"
   ]
  },
  {
   "cell_type": "code",
   "execution_count": null,
   "id": "8ff527e7",
   "metadata": {},
   "outputs": [
    {
     "data": {
      "text/plain": [
       "\"INDIA TO TOUR BANGLADESH IN 2025 FOR 3 ODI'S AND T20IS. BCCI ANNOUNCES FULL SCHEDULE\""
      ]
     },
     "execution_count": 51,
     "metadata": {},
     "output_type": "execute_result"
    }
   ],
   "source": []
  },
  {
   "cell_type": "code",
   "execution_count": null,
   "id": "4e3a8a3c",
   "metadata": {},
   "outputs": [],
   "source": []
  }
 ],
 "metadata": {
  "kernelspec": {
   "display_name": "Python 3",
   "language": "python",
   "name": "python3"
  },
  "language_info": {
   "codemirror_mode": {
    "name": "ipython",
    "version": 3
   },
   "file_extension": ".py",
   "mimetype": "text/x-python",
   "name": "python",
   "nbconvert_exporter": "python",
   "pygments_lexer": "ipython3",
   "version": "3.11.9"
  }
 },
 "nbformat": 4,
 "nbformat_minor": 5
}
